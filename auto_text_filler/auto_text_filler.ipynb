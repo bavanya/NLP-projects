{
 "cells": [
  {
   "cell_type": "code",
   "execution_count": 1,
   "metadata": {},
   "outputs": [],
   "source": [
    "import numpy as np\n",
    "import nltk\n",
    "import random\n",
    "import string\n",
    "import bs4 as bs\n",
    "import urllib.request\n",
    "import re"
   ]
  },
  {
   "cell_type": "code",
   "execution_count": 3,
   "metadata": {},
   "outputs": [],
   "source": [
    "raw_html = urllib.request.urlopen('https://en.wikipedia.org/wiki/COVID-19_pandemic_in_Telangana')\n",
    "raw_html = raw_html.read()\n",
    "\n",
    "article_html = bs.BeautifulSoup(raw_html)\n",
    "article_paragraphs = article_html.find_all('p')\n",
    "article_text = ''\n",
    "\n",
    "for para in article_paragraphs:\n",
    "    article_text += para.text\n",
    "\n",
    "article_text = article_text.lower()"
   ]
  },
  {
   "cell_type": "code",
   "execution_count": 4,
   "metadata": {},
   "outputs": [],
   "source": [
    "article_text = re.sub(r'[^A-Za-z. ]', '', article_text)"
   ]
  },
  {
   "cell_type": "code",
   "execution_count": 15,
   "metadata": {},
   "outputs": [],
   "source": [
    "#creating character trigram\n",
    "ngrams = {}\n",
    "chars =5\n",
    "for i in range(len(article_text)-chars):\n",
    "    seq = article_text[i:i+chars]\n",
    "    #print(seq)\n",
    "    if seq not in ngrams.keys():\n",
    "        ngrams[seq] = []\n",
    "        ngrams[seq].append(article_text[i+chars])"
   ]
  },
  {
   "cell_type": "code",
   "execution_count": 18,
   "metadata": {},
   "outputs": [
    {
     "name": "stdout",
     "output_type": "stream",
     "text": [
      "the first case \n"
     ]
    }
   ],
   "source": [
    "curr_sequence = article_text[0:chars]\n",
    "output = curr_sequence\n",
    "for i in range(10):\n",
    "    if curr_sequence not in ngrams.keys():\n",
    "        break\n",
    "    possible_chars = ngrams[curr_sequence]\n",
    "    next_char = possible_chars[random.randrange(len(possible_chars))]\n",
    "    output += next_char\n",
    "    curr_sequence = output[len(output)-chars:len(output)]\n",
    "\n",
    "print(output)"
   ]
  },
  {
   "cell_type": "code",
   "execution_count": 23,
   "metadata": {},
   "outputs": [],
   "source": [
    "#creating word n gram \n",
    "ngrams = {}\n",
    "words = 1\n",
    "\n",
    "words_tokens = nltk.word_tokenize(article_text)\n",
    "for i in range(len(words_tokens)-words):\n",
    "    seq = ' '.join(words_tokens[i:i+words])\n",
    "    #print(seq)\n",
    "    if  seq not in ngrams.keys():\n",
    "        ngrams[seq] = []\n",
    "    ngrams[seq].append(words_tokens[i+words])"
   ]
  },
  {
   "cell_type": "code",
   "execution_count": 28,
   "metadata": {},
   "outputs": [
    {
     "name": "stdout",
     "output_type": "stream",
     "text": [
      "the first case was conducting\n"
     ]
    }
   ],
   "source": [
    "curr_sequence = ' '.join(words_tokens[0:words])\n",
    "output = curr_sequence\n",
    "for i in range(4):\n",
    "    if curr_sequence not in ngrams.keys():\n",
    "        break\n",
    "    possible_words = ngrams[curr_sequence]\n",
    "    next_word = possible_words[random.randrange(len(possible_words))]\n",
    "    output += ' ' + next_word\n",
    "    seq_words = nltk.word_tokenize(output)\n",
    "    curr_sequence = ' '.join(seq_words[len(seq_words)-words:len(seq_words)])\n",
    "\n",
    "print(output)"
   ]
  },
  {
   "cell_type": "code",
   "execution_count": null,
   "metadata": {},
   "outputs": [],
   "source": []
  }
 ],
 "metadata": {
  "kernelspec": {
   "display_name": "Python 3",
   "language": "python",
   "name": "python3"
  },
  "language_info": {
   "codemirror_mode": {
    "name": "ipython",
    "version": 3
   },
   "file_extension": ".py",
   "mimetype": "text/x-python",
   "name": "python",
   "nbconvert_exporter": "python",
   "pygments_lexer": "ipython3",
   "version": "3.6.9"
  }
 },
 "nbformat": 4,
 "nbformat_minor": 4
}
