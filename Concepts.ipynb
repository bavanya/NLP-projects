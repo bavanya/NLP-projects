{
 "cells": [
  {
   "cell_type": "code",
   "execution_count": 1,
   "metadata": {},
   "outputs": [],
   "source": [
    "#TF:(term frequency) frequency of a word in sentence / total number of words in the sentence\n",
    "#IDF(inverse document frequency): log of (total number of sentences / number of sentences containing the word)\n",
    "#TF-IDF of values: product of TF and IDF for the values"
   ]
  },
  {
   "cell_type": "code",
   "execution_count": 2,
   "metadata": {},
   "outputs": [
    {
     "name": "stdout",
     "output_type": "stream",
     "text": [
      "Requirement already satisfied: bs4 in /home/bavanya/Desktop/venv_python/lib/python3.6/site-packages (0.0.1)\n",
      "Requirement already satisfied: beautifulsoup4 in /home/bavanya/Desktop/venv_python/lib/python3.6/site-packages (from bs4) (4.9.1)\n",
      "Requirement already satisfied: soupsieve>1.2 in /home/bavanya/Desktop/venv_python/lib/python3.6/site-packages (from beautifulsoup4->bs4) (2.0.1)\n",
      "Requirement already satisfied: nltk in /home/bavanya/Desktop/venv_python/lib/python3.6/site-packages (3.5)\n",
      "Requirement already satisfied: joblib in /home/bavanya/Desktop/venv_python/lib/python3.6/site-packages (from nltk) (0.16.0)\n",
      "Requirement already satisfied: tqdm in /home/bavanya/Desktop/venv_python/lib/python3.6/site-packages (from nltk) (4.48.2)\n",
      "Requirement already satisfied: regex in /home/bavanya/Desktop/venv_python/lib/python3.6/site-packages (from nltk) (2020.7.14)\n",
      "Requirement already satisfied: click in /home/bavanya/Desktop/venv_python/lib/python3.6/site-packages (from nltk) (7.1.2)\n"
     ]
    }
   ],
   "source": [
    "#bag of words in python\n",
    "!pip install bs4\n",
    "!pip install nltk\n",
    "import nltk\n",
    "import numpy as np\n",
    "import random\n",
    "import string\n",
    "import bs4 as bs\n",
    "import re\n",
    "import urllib.request\n",
    "from nltk.corpus import stopwords\n",
    "from gensim.models import Word2Vec\n",
    "import spacy"
   ]
  },
  {
   "cell_type": "code",
   "execution_count": 3,
   "metadata": {},
   "outputs": [],
   "source": [
    "raw_html = urllib.request.urlopen('https://en.wikipedia.org/wiki/COVID-19_pandemic_in_India')  \n",
    "raw_html = raw_html.read()"
   ]
  },
  {
   "cell_type": "code",
   "execution_count": 4,
   "metadata": {},
   "outputs": [],
   "source": [
    "article_html = bs.BeautifulSoup(raw_html)\n",
    "article_paragraphs = article_html.find_all('p')\n",
    "article_text = ''"
   ]
  },
  {
   "cell_type": "code",
   "execution_count": 5,
   "metadata": {},
   "outputs": [],
   "source": [
    "for para in article_paragraphs:  \n",
    "    article_text += para.text"
   ]
  },
  {
   "cell_type": "code",
   "execution_count": 6,
   "metadata": {},
   "outputs": [
    {
     "name": "stderr",
     "output_type": "stream",
     "text": [
      "[nltk_data] Downloading package punkt to /home/bavanya/nltk_data...\n",
      "[nltk_data]   Package punkt is already up-to-date!\n"
     ]
    }
   ],
   "source": [
    "nltk.download('punkt')\n",
    "corpus = nltk.sent_tokenize(article_text)"
   ]
  },
  {
   "cell_type": "code",
   "execution_count": 7,
   "metadata": {},
   "outputs": [],
   "source": [
    "for i in range(len(corpus )):\n",
    "    corpus [i] = corpus [i].lower()\n",
    "    corpus [i] = re.sub(r'\\W',' ',corpus [i])\n",
    "    corpus [i] = re.sub(r'\\s+',' ',corpus [i])"
   ]
  },
  {
   "cell_type": "code",
   "execution_count": 8,
   "metadata": {},
   "outputs": [
    {
     "name": "stdout",
     "output_type": "stream",
     "text": [
      "332\n"
     ]
    }
   ],
   "source": [
    "print(len(corpus))"
   ]
  },
  {
   "cell_type": "code",
   "execution_count": 9,
   "metadata": {},
   "outputs": [
    {
     "name": "stdout",
     "output_type": "stream",
     "text": [
      "the first case of covid 19 in india which originated from china was reported on 30 january 2020 \n"
     ]
    }
   ],
   "source": [
    "print(corpus[1])"
   ]
  },
  {
   "cell_type": "code",
   "execution_count": 10,
   "metadata": {},
   "outputs": [],
   "source": [
    "wordfreq = {}\n",
    "for sentence in corpus:\n",
    "    tokens = nltk.word_tokenize(sentence)\n",
    "    for token in tokens:\n",
    "        if token not in wordfreq.keys():\n",
    "            wordfreq[token] = 1\n",
    "        else:\n",
    "            wordfreq[token] += 1"
   ]
  },
  {
   "cell_type": "code",
   "execution_count": 11,
   "metadata": {},
   "outputs": [],
   "source": [
    "import heapq\n",
    "most_freq = heapq.nlargest(200, wordfreq, key=wordfreq.get)"
   ]
  },
  {
   "cell_type": "code",
   "execution_count": 12,
   "metadata": {},
   "outputs": [],
   "source": [
    "sentence_vectors = []\n",
    "for sentence in corpus:\n",
    "    sentence_tokens = nltk.word_tokenize(sentence)\n",
    "    sent_vec = []\n",
    "    for token in most_freq:\n",
    "        if token in sentence_tokens:\n",
    "            sent_vec.append(1)\n",
    "        else:\n",
    "            sent_vec.append(0)\n",
    "    sentence_vectors.append(sent_vec)"
   ]
  },
  {
   "cell_type": "code",
   "execution_count": 13,
   "metadata": {},
   "outputs": [],
   "source": [
    "sentence_vectors = np.asarray(sentence_vectors)"
   ]
  },
  {
   "cell_type": "code",
   "execution_count": null,
   "metadata": {},
   "outputs": [],
   "source": []
  },
  {
   "cell_type": "code",
   "execution_count": 14,
   "metadata": {},
   "outputs": [],
   "source": [
    "#Word to vector using Gensim library: Word2Vec embedding approach uses \n",
    "#neural networks and deep learning to convert words to corresponding\n",
    "#vectors in such a way that the semantically similar vectors are close to each other\n",
    "#in N dimensional space "
   ]
  },
  {
   "cell_type": "code",
   "execution_count": 15,
   "metadata": {},
   "outputs": [],
   "source": [
    "#1. Skip Gram model\n",
    "#2. Continuous bag of words model\n",
    "# in the word2vec model the dimensions of word is very less compared to bag of words \n",
    "#or TF_IDF models as the dimension represents aspect of the word in this model\n",
    "#so semantic information of the word is not lost here unlike in other models"
   ]
  },
  {
   "cell_type": "code",
   "execution_count": 16,
   "metadata": {},
   "outputs": [],
   "source": [
    "all_words = [nltk.word_tokenize(sent) for sent in corpus]"
   ]
  },
  {
   "cell_type": "code",
   "execution_count": 17,
   "metadata": {},
   "outputs": [],
   "source": [
    "for i in range(len(all_words)):\n",
    "    all_words[i] = [w for w in all_words[i] if w not in nltk.corpus.stopwords.words('english')]"
   ]
  },
  {
   "cell_type": "code",
   "execution_count": 18,
   "metadata": {},
   "outputs": [],
   "source": [
    "word2vec = Word2Vec(all_words, min_count=2)#min count removes uncommon words\n",
    "#with occurrence less than 2 in all_words"
   ]
  },
  {
   "cell_type": "code",
   "execution_count": 19,
   "metadata": {},
   "outputs": [
    {
     "name": "stdout",
     "output_type": "stream",
     "text": [
      "{'covid': <gensim.models.keyedvectors.Vocab object at 0x7ff957030b00>, '19': <gensim.models.keyedvectors.Vocab object at 0x7ff957030b70>, 'pandemic': <gensim.models.keyedvectors.Vocab object at 0x7ff93a6c4320>, 'india': <gensim.models.keyedvectors.Vocab object at 0x7ff93a6c4be0>, 'part': <gensim.models.keyedvectors.Vocab object at 0x7ff93a6c4b38>, 'coronavirus': <gensim.models.keyedvectors.Vocab object at 0x7ff93a6c4dd8>, 'disease': <gensim.models.keyedvectors.Vocab object at 0x7ff93a6c4b70>, '2019': <gensim.models.keyedvectors.Vocab object at 0x7ff93a6c4eb8>, 'caused': <gensim.models.keyedvectors.Vocab object at 0x7ff93a6c4f60>, 'severe': <gensim.models.keyedvectors.Vocab object at 0x7ff93a6c4ac8>, 'acute': <gensim.models.keyedvectors.Vocab object at 0x7ff93a6c4cf8>, 'respiratory': <gensim.models.keyedvectors.Vocab object at 0x7ff93a72e780>, '2': <gensim.models.keyedvectors.Vocab object at 0x7ff93a72e320>, 'sars': <gensim.models.keyedvectors.Vocab object at 0x7ff93a72e748>, 'cov': <gensim.models.keyedvectors.Vocab object at 0x7ff93a72ea20>, 'first': <gensim.models.keyedvectors.Vocab object at 0x7ff93a72eda0>, 'case': <gensim.models.keyedvectors.Vocab object at 0x7ff93a72e240>, 'china': <gensim.models.keyedvectors.Vocab object at 0x7ff93a72ee80>, 'reported': <gensim.models.keyedvectors.Vocab object at 0x7ff93a72e160>, '30': <gensim.models.keyedvectors.Vocab object at 0x7ff93a72ec88>, 'january': <gensim.models.keyedvectors.Vocab object at 0x7ff93a72ecf8>, '2020': <gensim.models.keyedvectors.Vocab object at 0x7ff93a72e470>, 'currently': <gensim.models.keyedvectors.Vocab object at 0x7ff93a72e668>, 'largest': <gensim.models.keyedvectors.Vocab object at 0x7ff93a72ebe0>, 'number': <gensim.models.keyedvectors.Vocab object at 0x7ff93a72e898>, 'confirmed': <gensim.models.keyedvectors.Vocab object at 0x7ff93a72ec18>, 'cases': <gensim.models.keyedvectors.Vocab object at 0x7ff93a72ef98>, '8': <gensim.models.keyedvectors.Vocab object at 0x7ff93a72e908>, 'second': <gensim.models.keyedvectors.Vocab object at 0x7ff93a72ef28>, 'highest': <gensim.models.keyedvectors.Vocab object at 0x7ff93a72eb38>, 'world': <gensim.models.keyedvectors.Vocab object at 0x7ff93a72eba8>, 'united': <gensim.models.keyedvectors.Vocab object at 0x7ff93a72e4e0>, 'states': <gensim.models.keyedvectors.Vocab object at 0x7ff93a6c3320>, '9': <gensim.models.keyedvectors.Vocab object at 0x7ff93a6c3e80>, '10': <gensim.models.keyedvectors.Vocab object at 0x7ff93a6c3eb8>, 'total': <gensim.models.keyedvectors.Vocab object at 0x7ff93a6c3748>, '100': <gensim.models.keyedvectors.Vocab object at 0x7ff93a6c3f98>, '000': <gensim.models.keyedvectors.Vocab object at 0x7ff93a6c3390>, 'may': <gensim.models.keyedvectors.Vocab object at 0x7ff93a6c32b0>, '200': <gensim.models.keyedvectors.Vocab object at 0x7ff93a6c33c8>, '3': <gensim.models.keyedvectors.Vocab object at 0x7ff93a6c3128>, 'june': <gensim.models.keyedvectors.Vocab object at 0x7ff93a6c3198>, '11': <gensim.models.keyedvectors.Vocab object at 0x7ff93a6c30b8>, '12': <gensim.models.keyedvectors.Vocab object at 0x7ff93a6c3208>, '1': <gensim.models.keyedvectors.Vocab object at 0x7ff93a6c3278>, '17': <gensim.models.keyedvectors.Vocab object at 0x7ff93a6c3048>, 'july': <gensim.models.keyedvectors.Vocab object at 0x7ff93a6c3240>, '29': <gensim.models.keyedvectors.Vocab object at 0x7ff93a6c3160>, 'august': <gensim.models.keyedvectors.Vocab object at 0x7ff93a6c34a8>, 'recorded': <gensim.models.keyedvectors.Vocab object at 0x7ff93a6c3668>, 'global': <gensim.models.keyedvectors.Vocab object at 0x7ff93a6c3860>, 'spike': <gensim.models.keyedvectors.Vocab object at 0x7ff93a6c39e8>, 'day': <gensim.models.keyedvectors.Vocab object at 0x7ff93a6c3a20>, '78': <gensim.models.keyedvectors.Vocab object at 0x7ff93a6c3b00>, 'previous': <gensim.models.keyedvectors.Vocab object at 0x7ff93a6c3cc0>, 'daily': <gensim.models.keyedvectors.Vocab object at 0x7ff93a6c3cf8>, '77': <gensim.models.keyedvectors.Vocab object at 0x7ff93a6c3d30>, 'us': <gensim.models.keyedvectors.Vocab object at 0x7ff93a6c3e48>, '13': <gensim.models.keyedvectors.Vocab object at 0x7ff93a6c3fd0>, '14': <gensim.models.keyedvectors.Vocab object at 0x7ff93a6c3ac8>, 'fatality': <gensim.models.keyedvectors.Vocab object at 0x7ff93a6c3d68>, 'rate': <gensim.models.keyedvectors.Vocab object at 0x7ff93a6c3ba8>, 'among': <gensim.models.keyedvectors.Vocab object at 0x7ff93a6c3be0>, 'lowest': <gensim.models.keyedvectors.Vocab object at 0x7ff93a6c3b70>, '41': <gensim.models.keyedvectors.Vocab object at 0x7ff93a6c3c18>, '23': <gensim.models.keyedvectors.Vocab object at 0x7ff93a6c36a0>, 'declining': <gensim.models.keyedvectors.Vocab object at 0x7ff93a6c3898>, '15': <gensim.models.keyedvectors.Vocab object at 0x7ff93a6c3908>, 'mid': <gensim.models.keyedvectors.Vocab object at 0x7ff93a6c3940>, 'cities': <gensim.models.keyedvectors.Vocab object at 0x7ff93a6c39b0>, 'around': <gensim.models.keyedvectors.Vocab object at 0x7ff93a6c35c0>, 'half': <gensim.models.keyedvectors.Vocab object at 0x7ff93a6c3ef0>, 'country': <gensim.models.keyedvectors.Vocab object at 0x7ff93a6c35f8>, 'mumbai': <gensim.models.keyedvectors.Vocab object at 0x7ff93a6c3710>, 'delhi': <gensim.models.keyedvectors.Vocab object at 0x7ff93a6c3550>, 'chennai': <gensim.models.keyedvectors.Vocab object at 0x7ff93a6c3588>, 'pune': <gensim.models.keyedvectors.Vocab object at 0x7ff93a6c37b8>, 'kolkata': <gensim.models.keyedvectors.Vocab object at 0x7ff93a6c30f0>, '16': <gensim.models.keyedvectors.Vocab object at 0x7ff93a6cb828>, '24': <gensim.models.keyedvectors.Vocab object at 0x7ff93a6cbc88>, 'recoveries': <gensim.models.keyedvectors.Vocab object at 0x7ff93a6cbcc0>, 'active': <gensim.models.keyedvectors.Vocab object at 0x7ff93a6cbc18>, 'time': <gensim.models.keyedvectors.Vocab object at 0x7ff93a6cbcf8>, '22': <gensim.models.keyedvectors.Vocab object at 0x7ff93a6cb9b0>, 'march': <gensim.models.keyedvectors.Vocab object at 0x7ff93a6cb1d0>, 'observed': <gensim.models.keyedvectors.Vocab object at 0x7ff93a6cb208>, 'hour': <gensim.models.keyedvectors.Vocab object at 0x7ff93a6cb390>, 'public': <gensim.models.keyedvectors.Vocab object at 0x7ff93a6cb438>, 'curfew': <gensim.models.keyedvectors.Vocab object at 0x7ff93a6cb4a8>, 'prime': <gensim.models.keyedvectors.Vocab object at 0x7ff93a6cb518>, 'minister': <gensim.models.keyedvectors.Vocab object at 0x7ff93a6cb6a0>, 'narendra': <gensim.models.keyedvectors.Vocab object at 0x7ff93a6cb6d8>, 'modi': <gensim.models.keyedvectors.Vocab object at 0x7ff93a6cb048>, 'followed': <gensim.models.keyedvectors.Vocab object at 0x7ff93a6cb780>, 'hotspots': <gensim.models.keyedvectors.Vocab object at 0x7ff93a6cba20>, 'major': <gensim.models.keyedvectors.Vocab object at 0x7ff93a6cba58>, 'ordered': <gensim.models.keyedvectors.Vocab object at 0x7ff93a6cbac8>, 'nationwide': <gensim.models.keyedvectors.Vocab object at 0x7ff93a6cb0f0>, 'lockdown': <gensim.models.keyedvectors.Vocab object at 0x7ff93a6cbbe0>, '21': <gensim.models.keyedvectors.Vocab object at 0x7ff93a6cbd68>, 'days': <gensim.models.keyedvectors.Vocab object at 0x7ff93a6cbe10>, 'entire': <gensim.models.keyedvectors.Vocab object at 0x7ff93a6cbe48>, 'billion': <gensim.models.keyedvectors.Vocab object at 0x7ff93a6cbeb8>, 'person': <gensim.models.keyedvectors.Vocab object at 0x7ff93a6cbf28>, 'population': <gensim.models.keyedvectors.Vocab object at 0x7ff93a6cbfd0>, 'april': <gensim.models.keyedvectors.Vocab object at 0x7ff93a6cb198>, 'extended': <gensim.models.keyedvectors.Vocab object at 0x7ff93a6cb860>, 'till': <gensim.models.keyedvectors.Vocab object at 0x7ff93a6cb7f0>, 'two': <gensim.models.keyedvectors.Vocab object at 0x7ff93a6c9048>, 'week': <gensim.models.keyedvectors.Vocab object at 0x7ff93a6c9a20>, 'starting': <gensim.models.keyedvectors.Vocab object at 0x7ff93a6c94a8>, 'government': <gensim.models.keyedvectors.Vocab object at 0x7ff93a6c9d68>, 'started': <gensim.models.keyedvectors.Vocab object at 0x7ff93a6c9fd0>, 'containment': <gensim.models.keyedvectors.Vocab object at 0x7ff93a6c9198>, 'three': <gensim.models.keyedvectors.Vocab object at 0x7ff93a6c9c18>, 'unlock': <gensim.models.keyedvectors.Vocab object at 0x7ff93a6c9c50>, 'phases': <gensim.models.keyedvectors.Vocab object at 0x7ff93a6c9c88>, '18': <gensim.models.keyedvectors.Vocab object at 0x7ff93a6c9cc0>, '20': <gensim.models.keyedvectors.Vocab object at 0x7ff93a6c9f28>, 'imposed': <gensim.models.keyedvectors.Vocab object at 0x7ff93a6c9b38>, 'un': <gensim.models.keyedvectors.Vocab object at 0x7ff93a6c9f60>, 'health': <gensim.models.keyedvectors.Vocab object at 0x7ff93a6c9e80>, 'response': <gensim.models.keyedvectors.Vocab object at 0x7ff93a6c9240>, 'robust': <gensim.models.keyedvectors.Vocab object at 0x7ff93a6c95f8>, 'restrictions': <gensim.models.keyedvectors.Vocab object at 0x7ff93a6c9390>, 'spread': <gensim.models.keyedvectors.Vocab object at 0x7ff93a6c9b70>, 'healthcare': <gensim.models.keyedvectors.Vocab object at 0x7ff93a6c9e48>, 'noted': <gensim.models.keyedvectors.Vocab object at 0x7ff93a6c9748>, 'emergency': <gensim.models.keyedvectors.Vocab object at 0x7ff93a6c9ac8>, 'policy': <gensim.models.keyedvectors.Vocab object at 0x7ff93a6c9b00>, 'making': <gensim.models.keyedvectors.Vocab object at 0x7ff93a6c90f0>, 'investment': <gensim.models.keyedvectors.Vocab object at 0x7ff93a6c92e8>, 'stimulus': <gensim.models.keyedvectors.Vocab object at 0x7ff93a6c9828>, 'vaccine': <gensim.models.keyedvectors.Vocab object at 0x7ff93a6c9940>, 'drug': <gensim.models.keyedvectors.Vocab object at 0x7ff93a6c9080>, 'gave': <gensim.models.keyedvectors.Vocab object at 0x7ff93a6ca940>, 'also': <gensim.models.keyedvectors.Vocab object at 0x7ff93a6cacc0>, 'chief': <gensim.models.keyedvectors.Vocab object at 0x7ff93a6cad68>, 'director': <gensim.models.keyedvectors.Vocab object at 0x7ff93a6cac18>, 'capacity': <gensim.models.keyedvectors.Vocab object at 0x7ff93a6cae10>, 'outbreak': <gensim.models.keyedvectors.Vocab object at 0x7ff93a6caa58>, 'economic': <gensim.models.keyedvectors.Vocab object at 0x7ff93a6ca4e0>, 'result': <gensim.models.keyedvectors.Vocab object at 0x7ff93a6ca668>, 'preventive': <gensim.models.keyedvectors.Vocab object at 0x7ff93a6ca1d0>, '25': <gensim.models.keyedvectors.Vocab object at 0x7ff93a6ca240>, '26': <gensim.models.keyedvectors.Vocab object at 0x7ff93a6ca0b8>, 'prevent': <gensim.models.keyedvectors.Vocab object at 0x7ff93a6ca2b0>, 'stage': <gensim.models.keyedvectors.Vocab object at 0x7ff93a6ca2e8>, 'could': <gensim.models.keyedvectors.Vocab object at 0x7ff93a6ca438>, 'make': <gensim.models.keyedvectors.Vocab object at 0x7ff93a6ca780>, 'cause': <gensim.models.keyedvectors.Vocab object at 0x7ff93a6ca7b8>, 'even': <gensim.models.keyedvectors.Vocab object at 0x7ff93a6ca048>, 'losses': <gensim.models.keyedvectors.Vocab object at 0x7ff93a6ca860>, '27': <gensim.models.keyedvectors.Vocab object at 0x7ff93a6caa90>, '28': <gensim.models.keyedvectors.Vocab object at 0x7ff93a6cab00>, 'novel': <gensim.models.keyedvectors.Vocab object at 0x7ff93a6ca080>, 'cluster': <gensim.models.keyedvectors.Vocab object at 0x7ff93a6ca550>, 'people': <gensim.models.keyedvectors.Vocab object at 0x7ff93a6cabe0>, 'wuhan': <gensim.models.keyedvectors.Vocab object at 0x7ff93a6cae48>, 'city': <gensim.models.keyedvectors.Vocab object at 0x7ff93a6caef0>, '31': <gensim.models.keyedvectors.Vocab object at 0x7ff93a6cafd0>, 'jan': <gensim.models.keyedvectors.Vocab object at 0x7ff93a6ca588>, 'feb': <gensim.models.keyedvectors.Vocab object at 0x7ff93a6ca9b0>, 'mar': <gensim.models.keyedvectors.Vocab object at 0x7ff93a6ca908>, 'apr': <gensim.models.keyedvectors.Vocab object at 0x7ff93a73ce10>, 'jun': <gensim.models.keyedvectors.Vocab object at 0x7ff93a73c518>, 'jul': <gensim.models.keyedvectors.Vocab object at 0x7ff93a73c0f0>, 'aug': <gensim.models.keyedvectors.Vocab object at 0x7ff93a73c240>, 'last': <gensim.models.keyedvectors.Vocab object at 0x7ff93a73ceb8>, 'kerala': <gensim.models.keyedvectors.Vocab object at 0x7ff93a73c7f0>, 'february': <gensim.models.keyedvectors.Vocab object at 0x7ff93a73c860>, 'students': <gensim.models.keyedvectors.Vocab object at 0x7ff93a73c438>, 'returning': <gensim.models.keyedvectors.Vocab object at 0x7ff93a73c5c0>, 'rise': <gensim.models.keyedvectors.Vocab object at 0x7ff93a73c668>, 'transmissions': <gensim.models.keyedvectors.Vocab object at 0x7ff93a73c978>, '4': <gensim.models.keyedvectors.Vocab object at 0x7ff93a73cb70>, 'new': <gensim.models.keyedvectors.Vocab object at 0x7ff93a73c710>, 'including': <gensim.models.keyedvectors.Vocab object at 0x7ff93a73cf28>, 'infected': <gensim.models.keyedvectors.Vocab object at 0x7ff93a73cc88>, 'members': <gensim.models.keyedvectors.Vocab object at 0x7ff93a73ca20>, 'tourist': <gensim.models.keyedvectors.Vocab object at 0x7ff93a73c470>, 'several': <gensim.models.keyedvectors.Vocab object at 0x7ff93a73c128>, 'travel': <gensim.models.keyedvectors.Vocab object at 0x7ff93a73c4a8>, 'history': <gensim.models.keyedvectors.Vocab object at 0x7ff93a73c4e0>, 'affected': <gensim.models.keyedvectors.Vocab object at 0x7ff93a73cf98>, 'countries': <gensim.models.keyedvectors.Vocab object at 0x7ff93a73ca90>, 'tested': <gensim.models.keyedvectors.Vocab object at 0x7ff93a73cc50>, 'positive': <gensim.models.keyedvectors.Vocab object at 0x7ff93a73c048>, '76': <gensim.models.keyedvectors.Vocab object at 0x7ff93a73c2b0>, 'year': <gensim.models.keyedvectors.Vocab object at 0x7ff93a73c198>, 'old': <gensim.models.keyedvectors.Vocab object at 0x7ff93a73cfd0>, 'man': <gensim.models.keyedvectors.Vocab object at 0x7ff93a73cac8>, 'saudi': <gensim.models.keyedvectors.Vocab object at 0x7ff93a73cb00>, 'arabia': <gensim.models.keyedvectors.Vocab object at 0x7ff93a73c160>, 'became': <gensim.models.keyedvectors.Vocab object at 0x7ff93a73cda0>, '40': <gensim.models.keyedvectors.Vocab object at 0x7ff93a6c5940>, 'sikh': <gensim.models.keyedvectors.Vocab object at 0x7ff93a6c5518>, 'italy': <gensim.models.keyedvectors.Vocab object at 0x7ff93a6c5080>, 'super': <gensim.models.keyedvectors.Vocab object at 0x7ff93a6c5278>, 'spreader': <gensim.models.keyedvectors.Vocab object at 0x7ff93a6c5748>, 'sahib': <gensim.models.keyedvectors.Vocab object at 0x7ff93a6c5860>, '42': <gensim.models.keyedvectors.Vocab object at 0x7ff93a6c58d0>, 'traced': <gensim.models.keyedvectors.Vocab object at 0x7ff93a6c5240>, 'back': <gensim.models.keyedvectors.Vocab object at 0x7ff93a6c5588>, 'villages': <gensim.models.keyedvectors.Vocab object at 0x7ff93a6c54a8>, 'punjab': <gensim.models.keyedvectors.Vocab object at 0x7ff93a6c5b38>, 'quarantined': <gensim.models.keyedvectors.Vocab object at 0x7ff93a6c5390>, 'contain': <gensim.models.keyedvectors.Vocab object at 0x7ff93a6c5ac8>, 'tablighi': <gensim.models.keyedvectors.Vocab object at 0x7ff93a6c55f8>, 'jamaat': <gensim.models.keyedvectors.Vocab object at 0x7ff93a6c5048>, 'religious': <gensim.models.keyedvectors.Vocab object at 0x7ff93a6c50b8>, 'congregation': <gensim.models.keyedvectors.Vocab object at 0x7ff93a6c5550>, 'event': <gensim.models.keyedvectors.Vocab object at 0x7ff93a6c5828>, 'taken': <gensim.models.keyedvectors.Vocab object at 0x7ff93a6c5358>, 'place': <gensim.models.keyedvectors.Vocab object at 0x7ff93a6c5ef0>, 'emerged': <gensim.models.keyedvectors.Vocab object at 0x7ff93a6c5470>, 'virus': <gensim.models.keyedvectors.Vocab object at 0x7ff93a6c8e48>, 'across': <gensim.models.keyedvectors.Vocab object at 0x7ff93a6c8e80>, 'ministry': <gensim.models.keyedvectors.Vocab object at 0x7ff93a6c8eb8>, 'announced': <gensim.models.keyedvectors.Vocab object at 0x7ff93a6c8f28>, '291': <gensim.models.keyedvectors.Vocab object at 0x7ff93a6c8fd0>, 'linked': <gensim.models.keyedvectors.Vocab object at 0x7ff93a6c89b0>, 'stranded': <gensim.models.keyedvectors.Vocab object at 0x7ff93a6c8a90>, 'pilgrims': <gensim.models.keyedvectors.Vocab object at 0x7ff93a6c8ac8>, 'returned': <gensim.models.keyedvectors.Vocab object at 0x7ff93a6c8b70>, 'maharashtra': <gensim.models.keyedvectors.Vocab object at 0x7ff93a6c8be0>, 'many': <gensim.models.keyedvectors.Vocab object at 0x7ff93a6c8c88>, 'bus': <gensim.models.keyedvectors.Vocab object at 0x7ff93a6c8cf8>, 'drivers': <gensim.models.keyedvectors.Vocab object at 0x7ff93a6c8d30>, 'transport': <gensim.models.keyedvectors.Vocab object at 0x7ff93a6c8da0>, '225': <gensim.models.keyedvectors.Vocab object at 0x7ff93a6c81d0>, '49': <gensim.models.keyedvectors.Vocab object at 0x7ff93a6c87b8>, 'declared': <gensim.models.keyedvectors.Vocab object at 0x7ff93a6c8550>, 'epidemic': <gensim.models.keyedvectors.Vocab object at 0x7ff93a6c84e0>, 'union': <gensim.models.keyedvectors.Vocab object at 0x7ff93a6c8518>, 'territories': <gensim.models.keyedvectors.Vocab object at 0x7ff93a6c8588>, 'diseases': <gensim.models.keyedvectors.Vocab object at 0x7ff93a6c8908>, 'closure': <gensim.models.keyedvectors.Vocab object at 0x7ff93a6c8470>, 'suspended': <gensim.models.keyedvectors.Vocab object at 0x7ff93a6c85f8>, 'mainly': <gensim.models.keyedvectors.Vocab object at 0x7ff93a6c86a0>, '50': <gensim.models.keyedvectors.Vocab object at 0x7ff93a6c8748>, 'state': <gensim.models.keyedvectors.Vocab object at 0x7ff93a6c8780>, 'governments': <gensim.models.keyedvectors.Vocab object at 0x7ff93a7406d8>, 'various': <gensim.models.keyedvectors.Vocab object at 0x7ff93a740278>, 'measures': <gensim.models.keyedvectors.Vocab object at 0x7ff93a740ef0>, 'room': <gensim.models.keyedvectors.Vocab object at 0x7ff93a740898>, 'medical': <gensim.models.keyedvectors.Vocab object at 0x7ff93a740e10>, 'unit': <gensim.models.keyedvectors.Vocab object at 0x7ff93a740828>, 'central': <gensim.models.keyedvectors.Vocab object at 0x7ff93a740e48>, 'national': <gensim.models.keyedvectors.Vocab object at 0x7ff93a740c18>, 'centre': <gensim.models.keyedvectors.Vocab object at 0x7ff93a740780>, 'control': <gensim.models.keyedvectors.Vocab object at 0x7ff93a740908>, 'experts': <gensim.models.keyedvectors.Vocab object at 0x7ff93a7409e8>, 'hospitals': <gensim.models.keyedvectors.Vocab object at 0x7ff93a740a20>, '52': <gensim.models.keyedvectors.Vocab object at 0x7ff93a740b00>, 'strategy': <gensim.models.keyedvectors.Vocab object at 0x7ff93a740b38>, 'similar': <gensim.models.keyedvectors.Vocab object at 0x7ff93a7402b0>, 'chain': <gensim.models.keyedvectors.Vocab object at 0x7ff93a740358>, 'transmission': <gensim.models.keyedvectors.Vocab object at 0x7ff93a740048>, '53': <gensim.models.keyedvectors.Vocab object at 0x7ff93a7400f0>, '54': <gensim.models.keyedvectors.Vocab object at 0x7ff93a740080>, 'labs': <gensim.models.keyedvectors.Vocab object at 0x7ff93a7404e0>, 'led': <gensim.models.keyedvectors.Vocab object at 0x7ff93a740710>, 'institute': <gensim.models.keyedvectors.Vocab object at 0x7ff93a740a90>, 'virology': <gensim.models.keyedvectors.Vocab object at 0x7ff93a7406a0>, 'niv': <gensim.models.keyedvectors.Vocab object at 0x7ff93a740550>, 'testing': <gensim.models.keyedvectors.Vocab object at 0x7ff93a740668>, 'early': <gensim.models.keyedvectors.Vocab object at 0x7ff93a740e80>, '55': <gensim.models.keyedvectors.Vocab object at 0x7ff93a740d68>, '65': <gensim.models.keyedvectors.Vocab object at 0x7ff93a740f28>, 'named': <gensim.models.keyedvectors.Vocab object at 0x7ff93a740fd0>, 'capable': <gensim.models.keyedvectors.Vocab object at 0x7ff93a739390>, 'functional': <gensim.models.keyedvectors.Vocab object at 0x7ff93a739668>, '57': <gensim.models.keyedvectors.Vocab object at 0x7ff93a7393c8>, 'strain': <gensim.models.keyedvectors.Vocab object at 0x7ff93a739fd0>, 'sample': <gensim.models.keyedvectors.Vocab object at 0x7ff93a739ef0>, 'indian': <gensim.models.keyedvectors.Vocab object at 0x7ff93a739cf8>, 'council': <gensim.models.keyedvectors.Vocab object at 0x7ff93a739898>, 'research': <gensim.models.keyedvectors.Vocab object at 0x7ff93a739470>, 'icmr': <gensim.models.keyedvectors.Vocab object at 0x7ff93a739080>, 'said': <gensim.models.keyedvectors.Vocab object at 0x7ff93a7390f0>, 'isolation': <gensim.models.keyedvectors.Vocab object at 0x7ff93a739b70>, 'help': <gensim.models.keyedvectors.Vocab object at 0x7ff93a739208>, 'development': <gensim.models.keyedvectors.Vocab object at 0x7ff93a739320>, 'drugs': <gensim.models.keyedvectors.Vocab object at 0x7ff93a7394a8>, 'rapid': <gensim.models.keyedvectors.Vocab object at 0x7ff93a7394e0>, 'diagnostic': <gensim.models.keyedvectors.Vocab object at 0x7ff93a739518>, 'kits': <gensim.models.keyedvectors.Vocab object at 0x7ff93a739588>, '60': <gensim.models.keyedvectors.Vocab object at 0x7ff93a739160>, 'shared': <gensim.models.keyedvectors.Vocab object at 0x7ff93a7391d0>, 'genome': <gensim.models.keyedvectors.Vocab object at 0x7ff93a7399b0>, '61': <gensim.models.keyedvectors.Vocab object at 0x7ff93a7399e8>, 'sent': <gensim.models.keyedvectors.Vocab object at 0x7ff93a739f98>, '650': <gensim.models.keyedvectors.Vocab object at 0x7ff93a7396d8>, 'use': <gensim.models.keyedvectors.Vocab object at 0x7ff93a739e48>, 'view': <gensim.models.keyedvectors.Vocab object at 0x7ff93a7397f0>, 'low': <gensim.models.keyedvectors.Vocab object at 0x7ff93a739b00>, 'accuracy': <gensim.models.keyedvectors.Vocab object at 0x7ff93a739048>, '5': <gensim.models.keyedvectors.Vocab object at 0x7ff93a739c18>, '63': <gensim.models.keyedvectors.Vocab object at 0x7ff93a739cc0>, 'introduced': <gensim.models.keyedvectors.Vocab object at 0x7ff93a739f60>, 'another': <gensim.models.keyedvectors.Vocab object at 0x7ff93a7398d0>, 'antibody': <gensim.models.keyedvectors.Vocab object at 0x7ff93a739438>, 'test': <gensim.models.keyedvectors.Vocab object at 0x7ff93a6c2c18>, 'kit': <gensim.models.keyedvectors.Vocab object at 0x7ff93a6c2e48>, '90': <gensim.models.keyedvectors.Vocab object at 0x7ff93a6c2e80>, 'samples': <gensim.models.keyedvectors.Vocab object at 0x7ff93a6c2f28>, 'run': <gensim.models.keyedvectors.Vocab object at 0x7ff93a6c2f98>, 'hours': <gensim.models.keyedvectors.Vocab object at 0x7ff93a6c2c50>, 'high': <gensim.models.keyedvectors.Vocab object at 0x7ff93a6c2cf8>, 'risk': <gensim.models.keyedvectors.Vocab object at 0x7ff93a6c2d30>, 'come': <gensim.models.keyedvectors.Vocab object at 0x7ff93a6c20f0>, 'contact': <gensim.models.keyedvectors.Vocab object at 0x7ff93a6c25c0>, 'showing': <gensim.models.keyedvectors.Vocab object at 0x7ff93a6c25f8>, 'symptoms': <gensim.models.keyedvectors.Vocab object at 0x7ff93a6c2198>, 'per': <gensim.models.keyedvectors.Vocab object at 0x7ff93a6c24a8>, 'guidelines': <gensim.models.keyedvectors.Vocab object at 0x7ff93a6c2160>, '66': <gensim.models.keyedvectors.Vocab object at 0x7ff93a6c2320>, 'decided': <gensim.models.keyedvectors.Vocab object at 0x7ff93a6c2550>, 'include': <gensim.models.keyedvectors.Vocab object at 0x7ff93a6c24e0>, 'regardless': <gensim.models.keyedvectors.Vocab object at 0x7ff93a6c23c8>, 'saw': <gensim.models.keyedvectors.Vocab object at 0x7ff93a6c2240>, 'increase': <gensim.models.keyedvectors.Vocab object at 0x7ff93a6c22b0>, 'tests': <gensim.models.keyedvectors.Vocab object at 0x7ff93a6c2048>, 'made': <gensim.models.keyedvectors.Vocab object at 0x7ff93a6c2780>, 'free': <gensim.models.keyedvectors.Vocab object at 0x7ff93a6c2a20>, '68': <gensim.models.keyedvectors.Vocab object at 0x7ff93a6c2ac8>, 'revised': <gensim.models.keyedvectors.Vocab object at 0x7ff93a6c2b00>, 'allowed': <gensim.models.keyedvectors.Vocab object at 0x7ff93a6c2b70>, 'hotspot': <gensim.models.keyedvectors.Vocab object at 0x7ff93a6c2da0>, 'areas': <gensim.models.keyedvectors.Vocab object at 0x7ff93a6c2ba8>, 'patient': <gensim.models.keyedvectors.Vocab object at 0x7ff93a6c2940>, 'cent': <gensim.models.keyedvectors.Vocab object at 0x7ff93a6c27f0>, 'used': <gensim.models.keyedvectors.Vocab object at 0x7ff93a6c2860>, 'claiming': <gensim.models.keyedvectors.Vocab object at 0x7ff93a6c2978>, 'enough': <gensim.models.keyedvectors.Vocab object at 0x7ff93a73f4e0>, 'however': <gensim.models.keyedvectors.Vocab object at 0x7ff93a73ff98>, 'community': <gensim.models.keyedvectors.Vocab object at 0x7ff93a73f0b8>, 'go': <gensim.models.keyedvectors.Vocab object at 0x7ff93a73fc88>, 'without': <gensim.models.keyedvectors.Vocab object at 0x7ff93a73fe48>, 'centres': <gensim.models.keyedvectors.Vocab object at 0x7ff93a73fb38>, 'private': <gensim.models.keyedvectors.Vocab object at 0x7ff93a73fd68>, 'laboratories': <gensim.models.keyedvectors.Vocab object at 0x7ff93a73fdd8>, 'accredited': <gensim.models.keyedvectors.Vocab object at 0x7ff93a73fe10>, 'official': <gensim.models.keyedvectors.Vocab object at 0x7ff93a73ff28>, 'claimed': <gensim.models.keyedvectors.Vocab object at 0x7ff93a73fb70>, 'board': <gensim.models.keyedvectors.Vocab object at 0x7ff93a73fd30>, '71': <gensim.models.keyedvectors.Vocab object at 0x7ff93a73f2e8>, 'set': <gensim.models.keyedvectors.Vocab object at 0x7ff93a73f898>, 'facility': <gensim.models.keyedvectors.Vocab object at 0x7ff93a73f8d0>, 'offer': <gensim.models.keyedvectors.Vocab object at 0x7ff93a73f860>, 'company': <gensim.models.keyedvectors.Vocab object at 0x7ff93a73f978>, 'given': <gensim.models.keyedvectors.Vocab object at 0x7ff93a73fba8>, 'food': <gensim.models.keyedvectors.Vocab object at 0x7ff93a73f3c8>, 'administration': <gensim.models.keyedvectors.Vocab object at 0x7ff93a73f550>, 'approval': <gensim.models.keyedvectors.Vocab object at 0x7ff93a73f5f8>, 'conduct': <gensim.models.keyedvectors.Vocab object at 0x7ff93a73f630>, 'licence': <gensim.models.keyedvectors.Vocab object at 0x7ff93a73f668>, 'controller': <gensim.models.keyedvectors.Vocab object at 0x7ff93a73f6d8>, 'general': <gensim.models.keyedvectors.Vocab object at 0x7ff93a73f048>, 'dcgi': <gensim.models.keyedvectors.Vocab object at 0x7ff93a73f390>, 'giving': <gensim.models.keyedvectors.Vocab object at 0x7ff93a73f278>, 'firm': <gensim.models.keyedvectors.Vocab object at 0x7ff93a73f128>, 'companies': <gensim.models.keyedvectors.Vocab object at 0x7ff93a73f198>, 'developed': <gensim.models.keyedvectors.Vocab object at 0x7ff93a73f1d0>, '74': <gensim.models.keyedvectors.Vocab object at 0x7ff93a73f438>, 'issued': <gensim.models.keyedvectors.Vocab object at 0x7ff93a73f470>, 'cost': <gensim.models.keyedvectors.Vocab object at 0x7ff93a73f4a8>, '500': <gensim.models.keyedvectors.Vocab object at 0x7ff93a73f7b8>, 'stated': <gensim.models.keyedvectors.Vocab object at 0x7ff93a73f9e8>, 'facing': <gensim.models.keyedvectors.Vocab object at 0x7ff93a73fa58>, 'within': <gensim.models.keyedvectors.Vocab object at 0x7ff93a7354e0>, 'due': <gensim.models.keyedvectors.Vocab object at 0x7ff93a735710>, 'according': <gensim.models.keyedvectors.Vocab object at 0x7ff93a735208>, 'models': <gensim.models.keyedvectors.Vocab object at 0x7ff93a735d30>, 'uk': <gensim.models.keyedvectors.Vocab object at 0x7ff93a735a90>, 'least': <gensim.models.keyedvectors.Vocab object at 0x7ff93a735550>, 'applying': <gensim.models.keyedvectors.Vocab object at 0x7ff93a735780>, 'means': <gensim.models.keyedvectors.Vocab object at 0x7ff93a7353c8>, 'lower': <gensim.models.keyedvectors.Vocab object at 0x7ff93a735080>, 'end': <gensim.models.keyedvectors.Vocab object at 0x7ff93a735748>, '300': <gensim.models.keyedvectors.Vocab object at 0x7ff93a7354a8>, 'million': <gensim.models.keyedvectors.Vocab object at 0x7ff93a735048>, '111': <gensim.models.keyedvectors.Vocab object at 0x7ff93a7352e8>, 'based': <gensim.models.keyedvectors.Vocab object at 0x7ff93a735668>, 'molecular': <gensim.models.keyedvectors.Vocab object at 0x7ff93a7357b8>, 'received': <gensim.models.keyedvectors.Vocab object at 0x7ff93a7350f0>, 'rs': <gensim.models.keyedvectors.Vocab object at 0x7ff93a735e10>, '80': <gensim.models.keyedvectors.Vocab object at 0x7ff93a735860>, 'biology': <gensim.models.keyedvectors.Vocab object at 0x7ff93a735b00>, 'would': <gensim.models.keyedvectors.Vocab object at 0x7ff93a735b38>, '7': <gensim.models.keyedvectors.Vocab object at 0x7ff93a735cc0>, 'advised': <gensim.models.keyedvectors.Vocab object at 0x7ff93a735eb8>, 'pool': <gensim.models.keyedvectors.Vocab object at 0x7ff93a735ef0>, 'infection': <gensim.models.keyedvectors.Vocab object at 0x7ff93a735f60>, 'uttar': <gensim.models.keyedvectors.Vocab object at 0x7ff93a735f98>, 'pradesh': <gensim.models.keyedvectors.Vocab object at 0x7ff93a735b70>, 'approved': <gensim.models.keyedvectors.Vocab object at 0x7ff93a735908>, 'suppliers': <gensim.models.keyedvectors.Vocab object at 0x7ff93a735978>, 'included': <gensim.models.keyedvectors.Vocab object at 0x7ff93a735e48>, 'firms': <gensim.models.keyedvectors.Vocab object at 0x7ff93a735ac8>, '51': <gensim.models.keyedvectors.Vocab object at 0x7ff93a735ba8>, 'next': <gensim.models.keyedvectors.Vocab object at 0x7ff93a735c18>, 'department': <gensim.models.keyedvectors.Vocab object at 0x7ff93a735c50>, 'west': <gensim.models.keyedvectors.Vocab object at 0x7ff93a735da0>, 'bengal': <gensim.models.keyedvectors.Vocab object at 0x7ff93a7356d8>, 'large': <gensim.models.keyedvectors.Vocab object at 0x7ff93a706748>, 'niced': <gensim.models.keyedvectors.Vocab object at 0x7ff93a706a90>, 'results': <gensim.models.keyedvectors.Vocab object at 0x7ff93a706be0>, 'admitted': <gensim.models.keyedvectors.Vocab object at 0x7ff93a706eb8>, 'problem': <gensim.models.keyedvectors.Vocab object at 0x7ff93a706898>, 'issue': <gensim.models.keyedvectors.Vocab object at 0x7ff93a7060b8>, 'rajasthan': <gensim.models.keyedvectors.Vocab object at 0x7ff93a7061d0>, 'using': <gensim.models.keyedvectors.Vocab object at 0x7ff93a7067f0>, 'expected': <gensim.models.keyedvectors.Vocab object at 0x7ff93a706160>, 'later': <gensim.models.keyedvectors.Vocab object at 0x7ff93a706cf8>, 'stop': <gensim.models.keyedvectors.Vocab object at 0x7ff93a7069e8>, 'put': <gensim.models.keyedvectors.Vocab object at 0x7ff93a706780>, 'notice': <gensim.models.keyedvectors.Vocab object at 0x7ff93a706d68>, 'chinese': <gensim.models.keyedvectors.Vocab object at 0x7ff93a706588>, 'authorities': <gensim.models.keyedvectors.Vocab object at 0x7ff93a706828>, 'asked': <gensim.models.keyedvectors.Vocab object at 0x7ff93a706b38>, 'return': <gensim.models.keyedvectors.Vocab object at 0x7ff93a7063c8>, 'cancelled': <gensim.models.keyedvectors.Vocab object at 0x7ff93a7066d8>, 'order': <gensim.models.keyedvectors.Vocab object at 0x7ff93a7064e0>, 'remaining': <gensim.models.keyedvectors.Vocab object at 0x7ff93a7069b0>, 'began': <gensim.models.keyedvectors.Vocab object at 0x7ff93a706b00>, 'random': <gensim.models.keyedvectors.Vocab object at 0x7ff93a706438>, 'flu': <gensim.models.keyedvectors.Vocab object at 0x7ff93a706ef0>, 'patients': <gensim.models.keyedvectors.Vocab object at 0x7ff93a706470>, '93': <gensim.models.keyedvectors.Vocab object at 0x7ff93a706518>, 'evidence': <gensim.models.keyedvectors.Vocab object at 0x7ff93a706390>, 'found': <gensim.models.keyedvectors.Vocab object at 0x7ff93a706a20>, 'negative': <gensim.models.keyedvectors.Vocab object at 0x7ff93a73ee48>, 'sari': <gensim.models.keyedvectors.Vocab object at 0x7ff93a73eeb8>, 'throughout': <gensim.models.keyedvectors.Vocab object at 0x7ff93a73ef60>, '104': <gensim.models.keyedvectors.Vocab object at 0x7ff93a73efd0>, 'anti': <gensim.models.keyedvectors.Vocab object at 0x7ff93a73e9b0>, 'month': <gensim.models.keyedvectors.Vocab object at 0x7ff93a73ea90>, 'chemical': <gensim.models.keyedvectors.Vocab object at 0x7ff93a73eb00>, 'technology': <gensim.models.keyedvectors.Vocab object at 0x7ff93a73ec18>, 'cipla': <gensim.models.keyedvectors.Vocab object at 0x7ff93a73ec50>, 'launched': <gensim.models.keyedvectors.Vocab object at 0x7ff93a73ecc0>, 'develop': <gensim.models.keyedvectors.Vocab object at 0x7ff93a73ecf8>, 'treating': <gensim.models.keyedvectors.Vocab object at 0x7ff93a73ed68>, '99': <gensim.models.keyedvectors.Vocab object at 0x7ff93a73eda0>, 'following': <gensim.models.keyedvectors.Vocab object at 0x7ff93a73e240>, 'clinical': <gensim.models.keyedvectors.Vocab object at 0x7ff93a73e2b0>, 'trials': <gensim.models.keyedvectors.Vocab object at 0x7ff93a73e320>, 'got': <gensim.models.keyedvectors.Vocab object at 0x7ff93a73e358>, 'therapy': <gensim.models.keyedvectors.Vocab object at 0x7ff93a73e3c8>, 'treatment': <gensim.models.keyedvectors.Vocab object at 0x7ff93a73e438>, 'viral': <gensim.models.keyedvectors.Vocab object at 0x7ff93a73e518>, 'released': <gensim.models.keyedvectors.Vocab object at 0x7ff93a73e588>, 'force': <gensim.models.keyedvectors.Vocab object at 0x7ff93a73e6a0>, 'ventilators': <gensim.models.keyedvectors.Vocab object at 0x7ff93a73e710>, 'psus': <gensim.models.keyedvectors.Vocab object at 0x7ff93a73e780>, 'since': <gensim.models.keyedvectors.Vocab object at 0x7ff93a73e7b8>, 'production': <gensim.models.keyedvectors.Vocab object at 0x7ff93a73e7f0>, 'body': <gensim.models.keyedvectors.Vocab object at 0x7ff93a73e828>, 'mobile': <gensim.models.keyedvectors.Vocab object at 0x7ff93a73e8d0>, 'equipment': <gensim.models.keyedvectors.Vocab object at 0x7ff93a73e908>, 'double': <gensim.models.keyedvectors.Vocab object at 0x7ff93a73e048>, 'assistance': <gensim.models.keyedvectors.Vocab object at 0x7ff93a73e080>, 'collaboration': <gensim.models.keyedvectors.Vocab object at 0x7ff93a73e0f0>, 'supply': <gensim.models.keyedvectors.Vocab object at 0x7ff93a73e128>, 'producing': <gensim.models.keyedvectors.Vocab object at 0x7ff93a73e198>, 'ppe': <gensim.models.keyedvectors.Vocab object at 0x7ff93a72d4a8>, '250': <gensim.models.keyedvectors.Vocab object at 0x7ff93a72dd30>, 'n95': <gensim.models.keyedvectors.Vocab object at 0x7ff93a72dbe0>, 'masks': <gensim.models.keyedvectors.Vocab object at 0x7ff93a72dda0>, 'cellular': <gensim.models.keyedvectors.Vocab object at 0x7ff93a72d5f8>, 'partnership': <gensim.models.keyedvectors.Vocab object at 0x7ff93a72de48>, 'human': <gensim.models.keyedvectors.Vocab object at 0x7ff93a72df28>, 'lung': <gensim.models.keyedvectors.Vocab object at 0x7ff93a72da58>, 'institutions': <gensim.models.keyedvectors.Vocab object at 0x7ff93a72d898>, 'convalescent': <gensim.models.keyedvectors.Vocab object at 0x7ff93a72d6a0>, 'plasma': <gensim.models.keyedvectors.Vocab object at 0x7ff93a72d7f0>, 'institutes': <gensim.models.keyedvectors.Vocab object at 0x7ff93a72d358>, 'start': <gensim.models.keyedvectors.Vocab object at 0x7ff93a72d278>, 'support': <gensim.models.keyedvectors.Vocab object at 0x7ff93a72dcf8>, 'cm': <gensim.models.keyedvectors.Vocab object at 0x7ff93a72df98>, 'arvind': <gensim.models.keyedvectors.Vocab object at 0x7ff93a72d978>, 'kejriwal': <gensim.models.keyedvectors.Vocab object at 0x7ff93a72d048>, 'four': <gensim.models.keyedvectors.Vocab object at 0x7ff93a72db38>, 'late': <gensim.models.keyedvectors.Vocab object at 0x7ff93a72d320>, 'jointly': <gensim.models.keyedvectors.Vocab object at 0x7ff93a72d518>, 'serum': <gensim.models.keyedvectors.Vocab object at 0x7ff93a72d3c8>, 'president': <gensim.models.keyedvectors.Vocab object at 0x7ff93a72d160>, 'zydus': <gensim.models.keyedvectors.Vocab object at 0x7ff93a73af28>, 'cadila': <gensim.models.keyedvectors.Vocab object at 0x7ff93a73aac8>, 'developing': <gensim.models.keyedvectors.Vocab object at 0x7ff93a73a780>, 'hyderabad': <gensim.models.keyedvectors.Vocab object at 0x7ff93a73ac50>, 'bharat': <gensim.models.keyedvectors.Vocab object at 0x7ff93a73ab38>, 'biotech': <gensim.models.keyedvectors.Vocab object at 0x7ff93a73ac18>, 'candidates': <gensim.models.keyedvectors.Vocab object at 0x7ff93a73acc0>, 'reports': <gensim.models.keyedvectors.Vocab object at 0x7ff93a73a7f0>, 'launch': <gensim.models.keyedvectors.Vocab object at 0x7ff93a73a978>, 'red': <gensim.models.keyedvectors.Vocab object at 0x7ff93a73a9e8>, 'sii': <gensim.models.keyedvectors.Vocab object at 0x7ff93a73a0f0>, 'foundation': <gensim.models.keyedvectors.Vocab object at 0x7ff93a73a390>, 'restaurants': <gensim.models.keyedvectors.Vocab object at 0x7ff93a73a198>, 'ban': <gensim.models.keyedvectors.Vocab object at 0x7ff93a73a208>, 'delivery': <gensim.models.keyedvectors.Vocab object at 0x7ff93a73a2b0>, 'continue': <gensim.models.keyedvectors.Vocab object at 0x7ff93a73a320>, 'lucknow': <gensim.models.keyedvectors.Vocab object at 0x7ff93a73a438>, 'shops': <gensim.models.keyedvectors.Vocab object at 0x7ff93a73a470>, 'closed': <gensim.models.keyedvectors.Vocab object at 0x7ff93a73a4a8>, 'malls': <gensim.models.keyedvectors.Vocab object at 0x7ff93a73a128>, 'grocery': <gensim.models.keyedvectors.Vocab object at 0x7ff93a73a588>, 'open': <gensim.models.keyedvectors.Vocab object at 0x7ff93a73a828>, '140': <gensim.models.keyedvectors.Vocab object at 0x7ff93a73a860>, 'remain': <gensim.models.keyedvectors.Vocab object at 0x7ff93a73ab00>, 'period': <gensim.models.keyedvectors.Vocab object at 0x7ff93a73add8>, 'essential': <gensim.models.keyedvectors.Vocab object at 0x7ff93a73a8d0>, 'services': <gensim.models.keyedvectors.Vocab object at 0x7ff93a73a668>, 'available': <gensim.models.keyedvectors.Vocab object at 0x7ff93a73a710>, 'amarinder': <gensim.models.keyedvectors.Vocab object at 0x7ff93a7371d0>, 'singh': <gensim.models.keyedvectors.Vocab object at 0x7ff93a737d68>, 'goods': <gensim.models.keyedvectors.Vocab object at 0x7ff93a737da0>, 'ashok': <gensim.models.keyedvectors.Vocab object at 0x7ff93a737e10>, 'gehlot': <gensim.models.keyedvectors.Vocab object at 0x7ff93a737e48>, 'banned': <gensim.models.keyedvectors.Vocab object at 0x7ff93a737278>, 'cbse': <gensim.models.keyedvectors.Vocab object at 0x7ff93a7370f0>, 'examination': <gensim.models.keyedvectors.Vocab object at 0x7ff93a7372e8>, '150': <gensim.models.keyedvectors.Vocab object at 0x7ff93a737518>, 'class': <gensim.models.keyedvectors.Vocab object at 0x7ff93a7377b8>, 'rooms': <gensim.models.keyedvectors.Vocab object at 0x7ff93a7377f0>, 'different': <gensim.models.keyedvectors.Vocab object at 0x7ff93a737860>, 'examinations': <gensim.models.keyedvectors.Vocab object at 0x7ff93a737978>, 'postponed': <gensim.models.keyedvectors.Vocab object at 0x7ff93a737c88>, 'madhya': <gensim.models.keyedvectors.Vocab object at 0x7ff93a7378d0>, 'exams': <gensim.models.keyedvectors.Vocab object at 0x7ff93a737668>, 'school': <gensim.models.keyedvectors.Vocab object at 0x7ff93a737d30>, 'service': <gensim.models.keyedvectors.Vocab object at 0x7ff93a737e80>, 'held': <gensim.models.keyedvectors.Vocab object at 0x7ff93a737f28>, 'tamil': <gensim.models.keyedvectors.Vocab object at 0x7ff93a737fd0>, 'nadu': <gensim.models.keyedvectors.Vocab object at 0x7ff93a7376a0>, 'bse': <gensim.models.keyedvectors.Vocab object at 0x7ff93a737a58>, 'sensex': <gensim.models.keyedvectors.Vocab object at 0x7ff93a737b00>, 'witnessed': <gensim.models.keyedvectors.Vocab object at 0x7ff93a7379e8>, 'crash': <gensim.models.keyedvectors.Vocab object at 0x7ff93a737be0>, 'report': <gensim.models.keyedvectors.Vocab object at 0x7ff93a737550>, 'estimated': <gensim.models.keyedvectors.Vocab object at 0x7ff93a737710>, 'one': <gensim.models.keyedvectors.Vocab object at 0x7ff93a737048>, 'worst': <gensim.models.keyedvectors.Vocab object at 0x7ff93a737358>, 'points': <gensim.models.keyedvectors.Vocab object at 0x7ff93a737208>, '35': <gensim.models.keyedvectors.Vocab object at 0x7ff93a737198>, 'nifty': <gensim.models.keyedvectors.Vocab object at 0x7ff93a71fb70>, 'dropped': <gensim.models.keyedvectors.Vocab object at 0x7ff93a71f940>, 'months': <gensim.models.keyedvectors.Vocab object at 0x7ff93a71f9b0>, 'organisation': <gensim.models.keyedvectors.Vocab object at 0x7ff93a71f978>, 'scheduled': <gensim.models.keyedvectors.Vocab object at 0x7ff93a71fba8>, 'operations': <gensim.models.keyedvectors.Vocab object at 0x7ff93a71f4a8>, 'telangana': <gensim.models.keyedvectors.Vocab object at 0x7ff93a71f5f8>, 'international': <gensim.models.keyedvectors.Vocab object at 0x7ff93a71f390>, 'film': <gensim.models.keyedvectors.Vocab object at 0x7ff93a71fbe0>, 'awards': <gensim.models.keyedvectors.Vocab object at 0x7ff93a71f6a0>, 'shut': <gensim.models.keyedvectors.Vocab object at 0x7ff93a71f8d0>, 'tv': <gensim.models.keyedvectors.Vocab object at 0x7ff93a71fcf8>, 'streaming': <gensim.models.keyedvectors.Vocab object at 0x7ff93a71fda0>, 'networks': <gensim.models.keyedvectors.Vocab object at 0x7ff93a71fdd8>, 'homes': <gensim.models.keyedvectors.Vocab object at 0x7ff93a71f438>, 'broadcasting': <gensim.models.keyedvectors.Vocab object at 0x7ff93a71fc88>, 'ibf': <gensim.models.keyedvectors.Vocab object at 0x7ff93a71fb38>, 'television': <gensim.models.keyedvectors.Vocab object at 0x7ff93a71f320>, 'industry': <gensim.models.keyedvectors.Vocab object at 0x7ff93a71fac8>, 'sony': <gensim.models.keyedvectors.Vocab object at 0x7ff93a71f748>, 'star': <gensim.models.keyedvectors.Vocab object at 0x7ff93a71f7b8>, 'zee': <gensim.models.keyedvectors.Vocab object at 0x7ff93a71f7f0>, 'border': <gensim.models.keyedvectors.Vocab object at 0x7ff93a71f898>, 'ceremony': <gensim.models.keyedvectors.Vocab object at 0x7ff93a71feb8>, 'spectators': <gensim.models.keyedvectors.Vocab object at 0x7ff93a71ff98>, 'monuments': <gensim.models.keyedvectors.Vocab object at 0x7ff93a71f588>, '6': <gensim.models.keyedvectors.Vocab object at 0x7ff93a71fe80>, 'devotees': <gensim.models.keyedvectors.Vocab object at 0x7ff93a71f080>, 'worship': <gensim.models.keyedvectors.Vocab object at 0x7ff93a71f400>, 'home': <gensim.models.keyedvectors.Vocab object at 0x7ff93a71f630>, 'increased': <gensim.models.keyedvectors.Vocab object at 0x7ff93a71f2b0>, 'temple': <gensim.models.keyedvectors.Vocab object at 0x7ff93a734470>, 'varanasi': <gensim.models.keyedvectors.Vocab object at 0x7ff93a734dd8>, 'opening': <gensim.models.keyedvectors.Vocab object at 0x7ff93a734e10>, 'places': <gensim.models.keyedvectors.Vocab object at 0x7ff93a734e48>, 'cup': <gensim.models.keyedvectors.Vocab object at 0x7ff93a734eb8>, 'tournament': <gensim.models.keyedvectors.Vocab object at 0x7ff93a734668>, 'matches': <gensim.models.keyedvectors.Vocab object at 0x7ff93a7346a0>, 'league': <gensim.models.keyedvectors.Vocab object at 0x7ff93a734048>, '190': <gensim.models.keyedvectors.Vocab object at 0x7ff93a7340b8>, 'played': <gensim.models.keyedvectors.Vocab object at 0x7ff93a734160>, 'premier': <gensim.models.keyedvectors.Vocab object at 0x7ff93a734240>, 'bcci': <gensim.models.keyedvectors.Vocab object at 0x7ff93a734278>, 'south': <gensim.models.keyedvectors.Vocab object at 0x7ff93a734320>, 'road': <gensim.models.keyedvectors.Vocab object at 0x7ff93a7344a8>, 'flights': <gensim.models.keyedvectors.Vocab object at 0x7ff93a7344e0>, '198': <gensim.models.keyedvectors.Vocab object at 0x7ff93a734588>, 'air': <gensim.models.keyedvectors.Vocab object at 0x7ff93a7347f0>, 'suspension': <gensim.models.keyedvectors.Vocab object at 0x7ff93a7349b0>, 'express': <gensim.models.keyedvectors.Vocab object at 0x7ff93a7349e8>, 'flight': <gensim.models.keyedvectors.Vocab object at 0x7ff93a734a58>, 'railways': <gensim.models.keyedvectors.Vocab object at 0x7ff93a734ac8>, 'western': <gensim.models.keyedvectors.Vocab object at 0x7ff93a734cc0>, 'removed': <gensim.models.keyedvectors.Vocab object at 0x7ff93a734f28>, 'ticket': <gensim.models.keyedvectors.Vocab object at 0x7ff93a734f60>, 'charges': <gensim.models.keyedvectors.Vocab object at 0x7ff93a734b00>, 'trains': <gensim.models.keyedvectors.Vocab object at 0x7ff93a734940>, 'metro': <gensim.models.keyedvectors.Vocab object at 0x7ff93a734860>, 'janata': <gensim.models.keyedvectors.Vocab object at 0x7ff93a7348d0>, 'cancellation': <gensim.models.keyedvectors.Vocab object at 0x7ff93a734978>, 'non': <gensim.models.keyedvectors.Vocab object at 0x7ff93a734ba8>, 'passenger': <gensim.models.keyedvectors.Vocab object at 0x7ff93a734be0>, 'buses': <gensim.models.keyedvectors.Vocab object at 0x7ff93a734c18>, 'bookings': <gensim.models.keyedvectors.Vocab object at 0x7ff93a7345f8>, 'citation': <gensim.models.keyedvectors.Vocab object at 0x7ff93a734390>, 'needed': <gensim.models.keyedvectors.Vocab object at 0x7ff93a734438>, 'auto': <gensim.models.keyedvectors.Vocab object at 0x7ff93a734358>, 'migrant': <gensim.models.keyedvectors.Vocab object at 0x7ff93a72f358>, 'workers': <gensim.models.keyedvectors.Vocab object at 0x7ff93a72ff60>, 'left': <gensim.models.keyedvectors.Vocab object at 0x7ff93a72fef0>, 'native': <gensim.models.keyedvectors.Vocab object at 0x7ff93a72fc88>, 'relief': <gensim.models.keyedvectors.Vocab object at 0x7ff93a72fac8>, 'camps': <gensim.models.keyedvectors.Vocab object at 0x7ff93a72f278>, 'migrants': <gensim.models.keyedvectors.Vocab object at 0x7ff93a72f7b8>, 'supreme': <gensim.models.keyedvectors.Vocab object at 0x7ff93a72f518>, 'court': <gensim.models.keyedvectors.Vocab object at 0x7ff93a72f588>, 'panic': <gensim.models.keyedvectors.Vocab object at 0x7ff93a72fb38>, 'fake': <gensim.models.keyedvectors.Vocab object at 0x7ff93a72f8d0>, 'news': <gensim.models.keyedvectors.Vocab object at 0x7ff93a72ff28>, 'permitted': <gensim.models.keyedvectors.Vocab object at 0x7ff93a72f2e8>, 'others': <gensim.models.keyedvectors.Vocab object at 0x7ff93a72f438>, '230': <gensim.models.keyedvectors.Vocab object at 0x7ff93a72fe48>, 'provide': <gensim.models.keyedvectors.Vocab object at 0x7ff93a72f390>, 'supplies': <gensim.models.keyedvectors.Vocab object at 0x7ff93a72fb70>, 'growing': <gensim.models.keyedvectors.Vocab object at 0x7ff93a72f978>, 'package': <gensim.models.keyedvectors.Vocab object at 0x7ff93a72fa20>, 'crore': <gensim.models.keyedvectors.Vocab object at 0x7ff93a72fd30>, 'wage': <gensim.models.keyedvectors.Vocab object at 0x7ff93a72f5f8>, 'labourers': <gensim.models.keyedvectors.Vocab object at 0x7ff93a72f048>, 'construction': <gensim.models.keyedvectors.Vocab object at 0x7ff93a72f1d0>, 'white': <gensim.models.keyedvectors.Vocab object at 0x7ff93a72f0b8>, 'ration': <gensim.models.keyedvectors.Vocab object at 0x7ff93a72f0f0>, 'card': <gensim.models.keyedvectors.Vocab object at 0x7ff93a72f160>, 'holders': <gensim.models.keyedvectors.Vocab object at 0x7ff93a72f128>, 'provided': <gensim.models.keyedvectors.Vocab object at 0x7ff93a72f240>, 'family': <gensim.models.keyedvectors.Vocab object at 0x7ff93a72f400>, 'finance': <gensim.models.keyedvectors.Vocab object at 0x7ff93a72f470>, 'nirmala': <gensim.models.keyedvectors.Vocab object at 0x7ff93a732940>, 'sitharaman': <gensim.models.keyedvectors.Vocab object at 0x7ff93a732080>, 'lakh': <gensim.models.keyedvectors.Vocab object at 0x7ff93a732978>, 'fund': <gensim.models.keyedvectors.Vocab object at 0x7ff93a7329e8>, 'police': <gensim.models.keyedvectors.Vocab object at 0x7ff93a732f60>, 'salary': <gensim.models.keyedvectors.Vocab object at 0x7ff93a7325f8>, 'ncp': <gensim.models.keyedvectors.Vocab object at 0x7ff93a732128>, '246': <gensim.models.keyedvectors.Vocab object at 0x7ff93a732240>, 'party': <gensim.models.keyedvectors.Vocab object at 0x7ff93a7320b8>, 'scheme': <gensim.models.keyedvectors.Vocab object at 0x7ff93a7322e8>, 'doctor': <gensim.models.keyedvectors.Vocab object at 0x7ff93a732550>, 'nurse': <gensim.models.keyedvectors.Vocab object at 0x7ff93a732780>, 'karnataka': <gensim.models.keyedvectors.Vocab object at 0x7ff93a7324e0>, 'pm': <gensim.models.keyedvectors.Vocab object at 0x7ff93a7328d0>, 'kilograms': <gensim.models.keyedvectors.Vocab object at 0x7ff93a732320>, 'andhra': <gensim.models.keyedvectors.Vocab object at 0x7ff93a732588>, 'rice': <gensim.models.keyedvectors.Vocab object at 0x7ff93a732470>, 'kg': <gensim.models.keyedvectors.Vocab object at 0x7ff93a732390>, 'rations': <gensim.models.keyedvectors.Vocab object at 0x7ff93a732630>, 'pathan': <gensim.models.keyedvectors.Vocab object at 0x7ff93a732668>, 'sanitisers': <gensim.models.keyedvectors.Vocab object at 0x7ff93a732dd8>, 'average': <gensim.models.keyedvectors.Vocab object at 0x7ff93a732eb8>, 'doctors': <gensim.models.keyedvectors.Vocab object at 0x7ff93a732ef0>, 'died': <gensim.models.keyedvectors.Vocab object at 0x7ff93a732cf8>, 'nizamuddin': <gensim.models.keyedvectors.Vocab object at 0x7ff93a731a58>, 'area': <gensim.models.keyedvectors.Vocab object at 0x7ff93a731b00>, 'came': <gensim.models.keyedvectors.Vocab object at 0x7ff93a731ba8>, 'buying': <gensim.models.keyedvectors.Vocab object at 0x7ff93a731c50>, 'online': <gensim.models.keyedvectors.Vocab object at 0x7ff93a731cc0>, 'sales': <gensim.models.keyedvectors.Vocab object at 0x7ff93a731cf8>, 'suspected': <gensim.models.keyedvectors.Vocab object at 0x7ff93a731e10>, 'firs': <gensim.models.keyedvectors.Vocab object at 0x7ff93a731eb8>, 'filed': <gensim.models.keyedvectors.Vocab object at 0x7ff93a731f28>, 'district': <gensim.models.keyedvectors.Vocab object at 0x7ff93a731f98>, 'quarantine': <gensim.models.keyedvectors.Vocab object at 0x7ff93a731fd0>, 'woman': <gensim.models.keyedvectors.Vocab object at 0x7ff93a731518>, 'hospital': <gensim.models.keyedvectors.Vocab object at 0x7ff93a731748>, 'went': <gensim.models.keyedvectors.Vocab object at 0x7ff93a7316d8>, 'eat': <gensim.models.keyedvectors.Vocab object at 0x7ff93a731710>, 'twitter': <gensim.models.keyedvectors.Vocab object at 0x7ff93a731780>, 'chicken': <gensim.models.keyedvectors.Vocab object at 0x7ff93a7310f0>, 'muslim': <gensim.models.keyedvectors.Vocab object at 0x7ff93a731390>, 'crackdown': <gensim.models.keyedvectors.Vocab object at 0x7ff93a731320>, 'politicians': <gensim.models.keyedvectors.Vocab object at 0x7ff93a731160>, 'drinking': <gensim.models.keyedvectors.Vocab object at 0x7ff93a731438>, 'cow': <gensim.models.keyedvectors.Vocab object at 0x7ff93a731198>, 'rubbished': <gensim.models.keyedvectors.Vocab object at 0x7ff93a7311d0>, 'claims': <gensim.models.keyedvectors.Vocab object at 0x7ff93a7315f8>, 'criticised': <gensim.models.keyedvectors.Vocab object at 0x7ff93a7317f0>, 'spreading': <gensim.models.keyedvectors.Vocab object at 0x7ff93a731828>, 'misinformation': <gensim.models.keyedvectors.Vocab object at 0x7ff93a7318d0>, 'harassment': <gensim.models.keyedvectors.Vocab object at 0x7ff93a731978>, 'social': <gensim.models.keyedvectors.Vocab object at 0x7ff93a7319e8>, 'faced': <gensim.models.keyedvectors.Vocab object at 0x7ff93a731208>, 'media': <gensim.models.keyedvectors.Vocab object at 0x7ff93a7314a8>, 'clapping': <gensim.models.keyedvectors.Vocab object at 0x7ff93a720668>, 'message': <gensim.models.keyedvectors.Vocab object at 0x7ff93a720390>, '318': <gensim.models.keyedvectors.Vocab object at 0x7ff93a720da0>, 'heavily': <gensim.models.keyedvectors.Vocab object at 0x7ff93a7202e8>, 'village': <gensim.models.keyedvectors.Vocab object at 0x7ff93a7202b0>, 'carrying': <gensim.models.keyedvectors.Vocab object at 0x7ff93a7206d8>, 'resulting': <gensim.models.keyedvectors.Vocab object at 0x7ff93a720710>, 'refused': <gensim.models.keyedvectors.Vocab object at 0x7ff93a7207b8>, 'facilities': <gensim.models.keyedvectors.Vocab object at 0x7ff93a720860>, 'islamophobic': <gensim.models.keyedvectors.Vocab object at 0x7ff93a720898>, 'communal': <gensim.models.keyedvectors.Vocab object at 0x7ff93a720940>, 'tension': <gensim.models.keyedvectors.Vocab object at 0x7ff93a720978>, 'broke': <gensim.models.keyedvectors.Vocab object at 0x7ff93a7209b0>, 'alcohol': <gensim.models.keyedvectors.Vocab object at 0x7ff93a7200b8>, 'stomach': <gensim.models.keyedvectors.Vocab object at 0x7ff93a720160>, '336': <gensim.models.keyedvectors.Vocab object at 0x7ff93a720128>, 'belonged': <gensim.models.keyedvectors.Vocab object at 0x7ff93a720208>, 'reporting': <gensim.models.keyedvectors.Vocab object at 0x7ff93a720400>, '342': <gensim.models.keyedvectors.Vocab object at 0x7ff93a7204a8>, 'fire': <gensim.models.keyedvectors.Vocab object at 0x7ff93a720550>, 'hotel': <gensim.models.keyedvectors.Vocab object at 0x7ff93a720588>, 'swarna': <gensim.models.keyedvectors.Vocab object at 0x7ff93a720ac8>, 'palace': <gensim.models.keyedvectors.Vocab object at 0x7ff93a720dd8>, 'deaths': <gensim.models.keyedvectors.Vocab object at 0x7ff93a720e80>, 'moving': <gensim.models.keyedvectors.Vocab object at 0x7ff93a720f28>, 'indians': <gensim.models.keyedvectors.Vocab object at 0x7ff93a720c18>, 'abroad': <gensim.models.keyedvectors.Vocab object at 0x7ff93a720630>, 'arab': <gensim.models.keyedvectors.Vocab object at 0x7ff93a720c88>, 'emirates': <gensim.models.keyedvectors.Vocab object at 0x7ff93a720b70>, 'york': <gensim.models.keyedvectors.Vocab object at 0x7ff93a720f60>, 'americans': <gensim.models.keyedvectors.Vocab object at 0x7ff93a720fd0>, 'nhs': <gensim.models.keyedvectors.Vocab object at 0x7ff93a720240>, 'origin': <gensim.models.keyedvectors.Vocab object at 0x7ff93a72c7f0>, 'worked': <gensim.models.keyedvectors.Vocab object at 0x7ff93a72ce10>}\n"
     ]
    }
   ],
   "source": [
    "vocabulary = word2vec.wv.vocab\n",
    "print(vocabulary)"
   ]
  },
  {
   "cell_type": "code",
   "execution_count": 20,
   "metadata": {},
   "outputs": [],
   "source": [
    "v1 = word2vec.wv['covid']"
   ]
  },
  {
   "cell_type": "code",
   "execution_count": 21,
   "metadata": {},
   "outputs": [
    {
     "name": "stdout",
     "output_type": "stream",
     "text": [
      "[ 1.2976769e-03 -5.1747584e-03 -3.9950406e-04 -2.6983595e-03\n",
      "  2.5110752e-03 -5.7730349e-03  3.1711319e-03  3.1592313e-03\n",
      "  4.6426216e-03 -5.0211716e-03  1.1250640e-03  5.9835934e-03\n",
      " -2.3522126e-03 -7.4082543e-04  1.0398029e-03  4.0857173e-03\n",
      " -9.0996438e-04 -2.1599000e-03 -3.2720268e-03 -7.7306456e-04\n",
      "  1.0918799e-03 -1.5140178e-03  2.4075103e-03  2.3662290e-04\n",
      "  2.1754182e-03 -3.2091916e-03  1.1629497e-03 -3.4771576e-03\n",
      " -5.3478748e-04 -3.3749745e-03  2.0628801e-04 -3.6910886e-03\n",
      " -7.6705188e-04 -5.7392876e-04 -1.3933936e-03 -2.3743552e-03\n",
      " -1.4813132e-04  4.0441528e-03  3.0693684e-03  2.7743443e-03\n",
      "  2.8050181e-03  3.3243261e-03 -3.0142777e-03 -2.1121630e-03\n",
      "  3.2214369e-03  4.2142076e-03  3.8554322e-03 -1.7996834e-03\n",
      "  2.5294649e-03  8.5355954e-05  4.3402524e-03 -1.4267372e-03\n",
      "  1.4653469e-03 -5.7587842e-04 -1.4257132e-03  5.1422669e-03\n",
      " -3.9166049e-03  3.4902999e-03  1.6070030e-03  1.2476518e-03\n",
      "  1.5714469e-04  4.8480644e-03  8.7638659e-04  1.1975091e-03\n",
      " -4.1402597e-03  2.1333988e-03  4.9428237e-03  3.4961572e-03\n",
      " -4.7784396e-03 -1.5586601e-03  3.1847307e-03  5.0873845e-03\n",
      "  4.3505789e-03  5.1027364e-03 -3.8300406e-03 -2.0549376e-03\n",
      "  4.4736895e-03 -4.9955334e-04 -4.8053842e-03 -3.4788169e-04\n",
      "  1.3256350e-03 -3.4455555e-03  7.9787330e-04  3.5931966e-03\n",
      " -6.7431149e-03  2.6626100e-03  1.7239922e-03  3.0231783e-03\n",
      "  3.7584810e-03 -1.4898840e-03 -4.1462956e-03  4.9608992e-03\n",
      " -3.8243521e-03  4.3018893e-03 -4.8320852e-03 -3.4330632e-03\n",
      " -3.0933064e-03  4.8982338e-03  2.4375105e-03  1.8653073e-03]\n"
     ]
    }
   ],
   "source": [
    "print(v1)"
   ]
  },
  {
   "cell_type": "code",
   "execution_count": 22,
   "metadata": {},
   "outputs": [],
   "source": [
    "sim_words = word2vec.wv.most_similar('covid')"
   ]
  },
  {
   "cell_type": "code",
   "execution_count": 23,
   "metadata": {},
   "outputs": [
    {
     "name": "stdout",
     "output_type": "stream",
     "text": [
      "[('shared', 0.3834906220436096), ('per', 0.3379613161087036), ('2', 0.32632824778556824), ('nationwide', 0.3199097812175751), ('march', 0.31761130690574646), ('three', 0.3151320517063141), ('month', 0.3115532398223877), ('york', 0.30023646354675293), ('may', 0.2909044623374939), ('reported', 0.2820582389831543)]\n"
     ]
    }
   ],
   "source": [
    "print(sim_words)"
   ]
  },
  {
   "cell_type": "code",
   "execution_count": 24,
   "metadata": {},
   "outputs": [],
   "source": [
    "###spacy library and lemmatization and stemming"
   ]
  },
  {
   "cell_type": "code",
   "execution_count": 25,
   "metadata": {},
   "outputs": [],
   "source": [
    "import en_core_web_sm\n",
    "nlp = en_core_web_sm.load()\n",
    "sp  = spacy.load('en_core_web_sm')"
   ]
  },
  {
   "cell_type": "code",
   "execution_count": 26,
   "metadata": {},
   "outputs": [],
   "source": [
    "sentence = sp(u'The cave you fear to enter holds the treasure you seek')"
   ]
  },
  {
   "cell_type": "code",
   "execution_count": 27,
   "metadata": {},
   "outputs": [
    {
     "name": "stdout",
     "output_type": "stream",
     "text": [
      "The\n",
      "cave\n",
      "you\n",
      "fear\n",
      "to\n",
      "enter\n",
      "holds\n",
      "the\n",
      "treasure\n",
      "you\n",
      "seek\n"
     ]
    }
   ],
   "source": [
    "for word in sentence:\n",
    "    print(word.text)"
   ]
  },
  {
   "cell_type": "code",
   "execution_count": 28,
   "metadata": {},
   "outputs": [
    {
     "name": "stdout",
     "output_type": "stream",
     "text": [
      "The DET\n",
      "cave NOUN\n",
      "you PRON\n",
      "fear VERB\n",
      "to PART\n",
      "enter VERB\n",
      "holds VERB\n",
      "the DET\n",
      "treasure NOUN\n",
      "you PRON\n",
      "seek VERB\n"
     ]
    }
   ],
   "source": [
    "for word in sentence:\n",
    "    print(word.text,  word.pos_)"
   ]
  },
  {
   "cell_type": "code",
   "execution_count": 29,
   "metadata": {},
   "outputs": [
    {
     "name": "stdout",
     "output_type": "stream",
     "text": [
      "det\n",
      "nsubj\n",
      "nsubj\n",
      "relcl\n",
      "aux\n",
      "xcomp\n",
      "ROOT\n",
      "det\n",
      "dobj\n",
      "nsubj\n",
      "relcl\n"
     ]
    }
   ],
   "source": [
    "# dependency parsing using dep_\n",
    "for word in sentence:\n",
    "    print(word.dep_)"
   ]
  },
  {
   "cell_type": "code",
   "execution_count": null,
   "metadata": {},
   "outputs": [],
   "source": [
    "##named entity recognition\n"
   ]
  }
 ],
 "metadata": {
  "kernelspec": {
   "display_name": "Python 3",
   "language": "python",
   "name": "python3"
  },
  "language_info": {
   "codemirror_mode": {
    "name": "ipython",
    "version": 3
   },
   "file_extension": ".py",
   "mimetype": "text/x-python",
   "name": "python",
   "nbconvert_exporter": "python",
   "pygments_lexer": "ipython3",
   "version": "3.6.9"
  }
 },
 "nbformat": 4,
 "nbformat_minor": 4
}
